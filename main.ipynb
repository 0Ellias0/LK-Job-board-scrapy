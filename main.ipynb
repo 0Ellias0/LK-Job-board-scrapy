{
 "cells": [
  {
   "cell_type": "code",
   "execution_count": 1,
   "metadata": {},
   "outputs": [],
   "source": [
    "# libraries \n",
    "\n",
    "from selenium import webdriver\n",
    "from selenium.webdriver.common.by import By\n",
    "import csv\n",
    "import time\n",
    "from selenium.webdriver.chrome.service import Service"
   ]
  },
  {
   "cell_type": "code",
   "execution_count": 8,
   "metadata": {},
   "outputs": [
    {
     "name": "stdout",
     "output_type": "stream",
     "text": [
      "Job Title: Transportation/I-Trade Operations Analyst\n",
      "Job Title: Operations Manager - Manufacturing\n",
      "Job Title: Operations Manager - Manufacturing\n",
      "Job Title: SI&OP Senior Analyst\n",
      "Job Title: Sales Operations Analyst\n",
      "Job Title: SQL Reporting Analyst\n",
      "Job Title: Operations Manager\n",
      "Job Title: Business Process Analyst\n",
      "Job Title: Business Analyst\n",
      "Job Title: Warehouse Operations Manager\n",
      "Job Title: Operations Manager - Manufacturing\n",
      "Job Title: Business Analyst Kronos\n",
      "Job Title: Operations Manager - Manufacturing\n",
      "Job Title: Operations Manager - Manufacturing\n",
      "Job Title: Supply Chain Analyst\n",
      "Job Title: Business Analyst - Entry Level\n",
      "Job Title: Sr Analyst - Restaurant People Safety/ Accident Prevention\n",
      "Job Title: Senior Business Analyst\n",
      "Job Title: Mortgage Operations Manager, Top US Builder\n",
      "Job Title: Senior Business Analyst\n",
      "Job Title: Business Analyst\n",
      "Job Title: Manager II, Distribution Operations\n",
      "Job Title: Business Process Analyst 2 - HYBRID\n",
      "Job Title: Machine Tool Operations Manager - Plastics (Hamilton OH)\n",
      "Job Title: Business Strategy Analyst\n"
     ]
    }
   ],
   "source": [
    "s = Service(r\"C:\\Users\\Hebert Palmera\\Downloads\\chromedriver-win64\\chromedriver-win64\\chromedriver.exe\")\n",
    "\n",
    "driver = webdriver.Chrome(service=s)\n",
    "\n",
    "driver.get(\"https://www.linkedin.com/jobs/search/?alertAction=viewjobs&currentJobId=3822150905&f_SB2=1&f_TPR=a1705895389-&f_WT=1%2C2%2C3&geoId=106981407&keywords=operations%20analyst&location=Ohio%2C%20United%20States&origin=JOB_SEARCH_PAGE_JOB_FILTER&refresh=true&sortBy=R\")\n",
    "\n",
    "jobs_listing = driver.find_elements(By.XPATH, '//*[@id=\"main-content\"]/section[2]/ul/li')\n",
    "\n",
    "for listing in jobs_listing:\n",
    "    job_title_element = listing.find_element(By.CLASS_NAME, 'base-search-card__title')\n",
    "    job_title = job_title_element.text\n",
    "    print(\"Job Title:\", job_title)"
   ]
  }
 ],
 "metadata": {
  "kernelspec": {
   "display_name": "Python 3",
   "language": "python",
   "name": "python3"
  },
  "language_info": {
   "codemirror_mode": {
    "name": "ipython",
    "version": 3
   },
   "file_extension": ".py",
   "mimetype": "text/x-python",
   "name": "python",
   "nbconvert_exporter": "python",
   "pygments_lexer": "ipython3",
   "version": "3.12.1"
  }
 },
 "nbformat": 4,
 "nbformat_minor": 2
}
